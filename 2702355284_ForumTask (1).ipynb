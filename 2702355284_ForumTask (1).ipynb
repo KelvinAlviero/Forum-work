{
  "metadata": {
    "language_info": {
      "codemirror_mode": {
        "name": "python",
        "version": 3
      },
      "file_extension": ".py",
      "mimetype": "text/x-python",
      "name": "python",
      "nbconvert_exporter": "python",
      "pygments_lexer": "ipython3",
      "version": "3.8"
    },
    "kernelspec": {
      "name": "python",
      "display_name": "Python (Pyodide)",
      "language": "python"
    }
  },
  "nbformat_minor": 4,
  "nbformat": 4,
  "cells": [
    {
      "cell_type": "code",
      "source": "#Forum task 1\nlloyd = {\n \"name\": \"Lloyd\",\n \"homework\": [90.0, 97.0, 75.0, 92.0],\n \"quizzes\": [88.0, 40.0, 94.0],\n \"tests\": [75.0, 90.0]\n}\nalice = {\n \"name\": \"Alice\",\n \"homework\": [100.0, 92.0, 98.0, 100.0],\n \"quizzes\": [82.0, 83.0, 91.0],\n \"tests\": [89.0, 97.0]\n}\ntyler = {\n \"name\": \"Tyler\",\n \"homework\": [0.0, 87.0, 75.0, 22.0],\n \"quizzes\": [0.0, 75.0, 78.0],\n \"tests\": [100.0, 100.0]\n}\nStudentlist = [lloyd, alice, tyler]\n\n#Print student names out\nfor X in Studentlist:\n    print(\"===========================\")\n    print(f\"Student name: {X['name']}\")\n    print(f\"Student homework marks:{X['homework']}\")\n    print(f\"Student quiz marks:{X['quizzes']}\")\n    print(f\"Student test marks:{X['tests']}\")\n\n\ndef average(numbers):\n    total = float(sum(numbers))\n    result = total/len(numbers)\n    return result\n\n#Get overall average marks\ndef get_average(student):\n    homeworkA = average(student['homework'])\n    quizzesA = average(student['quizzes'])\n    testsA= average(student['tests'])\n    homeworkB = homeworkA*.1\n    quizzesB = quizzesA*.3\n    testB = testsA*.6\n    total= homeworkB+quizzesB+testB\n    return total\n\n#Marking scheme, get_average needed here \ndef get_letter_grade(score):\n    if score >= 90:\n        return \"Grade:A\"\n    elif score >= 80:\n        return \"Grade:B\"\n    elif score >= 70:\n        return \"Grade:C\"\n    elif score >= 60:\n        return \"Grade:D\"\n    else:\n        return \"Grade:F\"\n\n#Testing print function, the result for get_average goes into here to prevent a code break\nprint(get_letter_grade(get_average(lloyd)))\n\ndef get_class_average(students):\n    results= []\n    for student in Studentlist:\n        avg= get_average(student)\n        results.append(avg)\n    ClassAvg= average(results)\n    ClassGrade= get_letter_grade(ClassAvg)\n    print(f\"Class Average: {ClassAvg} Class grade: {ClassGrade}\")\n\n#Testing class average\nprint(get_class_average(student))",
      "metadata": {
        "trusted": true
      },
      "execution_count": 91,
      "outputs": [
        {
          "name": "stdout",
          "text": "===========================\nStudent name: Lloyd\nStudent homework marks:[90.0, 97.0, 75.0, 92.0]\nStudent quiz marks:[88.0, 40.0, 94.0]\nStudent test marks:[75.0, 90.0]\n===========================\nStudent name: Alice\nStudent homework marks:[100.0, 92.0, 98.0, 100.0]\nStudent quiz marks:[82.0, 83.0, 91.0]\nStudent test marks:[89.0, 97.0]\n===========================\nStudent name: Tyler\nStudent homework marks:[0.0, 87.0, 75.0, 22.0]\nStudent quiz marks:[0.0, 75.0, 78.0]\nStudent test marks:[100.0, 100.0]\nGrade:B\nClass Average: 83.86666666666666 Class grade: Grade:B\nNone\n",
          "output_type": "stream"
        }
      ]
    },
    {
      "cell_type": "code",
      "source": "# Forum task 2\n\n# Tuple\nCourses = (\"COP2510\", \"EGN3000L\", \"MAC2281\", \"MUH3016\", \"PHY2048\")\n\nCourses_PC = {\n    \"COP2510\": \"Programing concepts\",\n    \"EGN3000L\": \"Wow\",\n    \"MAC2281\": \"Calculus I:\",\n    \"MUH3016\": \"Survey of Jazz\",\n    \"PHY2048\": \"General Physics I\"\n}\n\nCourses_Ins = {\n    \"COP2510\": \"Z.Beasley\",\n    \"EGN3000L\": \"J.Anderson\",\n    \"MAC2281\": \"A.Makaryus\",\n    \"MUH3016\": \"A.Wilkins\",\n    \"PHY2048\": \"G.Pradhan\"\n}\n\nCourses_Time = {\n    \"COP2510\": \"MW 12:30pm-1:45pm\",\n    \"EGN3000L\": \"TR 11:00am-12.15pm\",\n    \"MAC2281\": \"MW 9.30am-10.45pm\",\n    \"MUH3016\": \"Online Asychronous\",\n    \"PHY2048\": \"Tr 5:00pm-6.15pm\"\n}\nInput = input(\"Enter course number:\")\n\n#I have no clue why both outputs go out in jupyter notebook but it works 100% in phycharm or VScode\nif Input in Courses:\n    print(\"Course name:\",Courses_PC[Input])\n    print(\"Course Instructor:\", Courses_Ins[Input])\n    print(\"Course Time:\",Courses_Time[Input])\nelse:\n    print(\"Invalid course\")",
      "metadata": {
        "trusted": true
      },
      "execution_count": 88,
      "outputs": [
        {
          "name": "stdout",
          "text": "Invalid course\n",
          "output_type": "stream"
        },
        {
          "output_type": "stream",
          "name": "stdin",
          "text": "Enter course number: COP2510\n"
        }
      ]
    },
    {
      "cell_type": "code",
      "source": "#Forum task 3\nDays = ('Sunday', 'Monday]', 'Tuesday', 'Wednesday', 'Thursday', 'Friday', 'Saturday')\n\nSales = []\n\nfor Day in Days:\n    while True:\n        try:\n            Money = float(input(f\"Enter sales data for {Day}:$\"))\n            if Money >= 0:\n                Sales.append(Money)\n                break\n            else:\n                print(\"Sales cannot be negative\")\n        except ValueError:\n            print(\"Invalid input\")\nSales_Total=sum(Sales)\nSales_Min=min(Sales)\nSales_Max=max(Sales)\n\nprint(Sales_Total)\nprint(\"Minimum sales are:\",Sales_Min,\"Maximum sales are:\",Sales_Max)",
      "metadata": {
        "trusted": true
      },
      "execution_count": 101,
      "outputs": [
        {
          "ename": "<class 'TypeError'>",
          "evalue": "float() argument must be a string or a real number, not 'PyodideFuture'",
          "traceback": [
            "\u001b[0;31m---------------------------------------------------------------------------\u001b[0m",
            "\u001b[0;31mTypeError\u001b[0m                                 Traceback (most recent call last)",
            "Cell \u001b[0;32mIn[101], line 8\u001b[0m\n\u001b[1;32m      6\u001b[0m \u001b[38;5;28;01mwhile\u001b[39;00m \u001b[38;5;28;01mTrue\u001b[39;00m:\n\u001b[1;32m      7\u001b[0m     \u001b[38;5;28;01mtry\u001b[39;00m:\n\u001b[0;32m----> 8\u001b[0m         Money \u001b[38;5;241m=\u001b[39m \u001b[38;5;28;43mfloat\u001b[39;49m\u001b[43m(\u001b[49m\u001b[38;5;28;43minput\u001b[39;49m\u001b[43m(\u001b[49m\u001b[38;5;124;43mf\u001b[39;49m\u001b[38;5;124;43m\"\u001b[39;49m\u001b[38;5;124;43mEnter sales data for \u001b[39;49m\u001b[38;5;132;43;01m{\u001b[39;49;00m\u001b[43mDay\u001b[49m\u001b[38;5;132;43;01m}\u001b[39;49;00m\u001b[38;5;124;43m:$\u001b[39;49m\u001b[38;5;124;43m\"\u001b[39;49m\u001b[43m)\u001b[49m\u001b[43m)\u001b[49m\n\u001b[1;32m      9\u001b[0m         \u001b[38;5;28;01mif\u001b[39;00m Money \u001b[38;5;241m>\u001b[39m\u001b[38;5;241m=\u001b[39m \u001b[38;5;241m0\u001b[39m:\n\u001b[1;32m     10\u001b[0m             Sales\u001b[38;5;241m.\u001b[39mappend(Money)\n",
            "\u001b[0;31mTypeError\u001b[0m: float() argument must be a string or a real number, not 'PyodideFuture'"
          ],
          "output_type": "error"
        },
        {
          "output_type": "stream",
          "name": "stdin",
          "text": "Enter sales data for Sunday:$ 200\n"
        }
      ]
    },
    {
      "cell_type": "code",
      "source": "#Forum task 4\nMorse = ({\n    \" \": \"Space\",\n    \",\": \"--..--\",\n    \".\": \".-.-.-\",\n    \"?\": \"..--..\",\n    \"0\": \"-----\",\n    \"1\": \".----\",\n    \"2\": \"..---\",\n    \"3\": \"...--\",\n    \"4\": \"....-\",\n    \"5\": \".....\",\n    \"6\": \"-....\",\n    \"7\": \"--..\",\n    \"8\": \"---..\",\n    \"9\": \"----.\",\n    \"A\": \".-\",\n    \"B\": \"-...\",\n    \"C\": \"-.-.\",\n    \"D\": \"-..\",\n    \"E\": \".\",\n    \"F\": \"..-.\",\n    \"G\": \"--.\",\n    \"H\": \". ...\",\n    \"I\": \". .\",\n    \"J\": \".---\",\n    \"K\": \"-.-\",\n    \"L\": \".-..\",\n    \"M\": \"--\",\n    \"N\": \"-.\",\n    \"O\": \"---\",\n    \"P\": \".---.\",\n    \"Q\": \"--,-\",\n    \"R\": \".-.\",\n    \"S\": \"...\",\n    \"T\": \"-\",\n    \"U\": \"..-\",\n    \"V\": \"...-\",\n    \"W\": \".--\",\n    \"X\": \"-..-\",\n    \"Y\": \"-.--\",\n    \"Z\": \"--,,\"\n})\n\nInput= input(\"Enter text:\").upper()\nConvert=[]\nfor letter in Input:\n    if letter in Morse:\n        Convert.append(Morse[letter])\n    else:\n        print(\"Text does not work\")\nprint(\" \".join(Convert))\n",
      "metadata": {},
      "execution_count": null,
      "outputs": []
    }
  ]
}